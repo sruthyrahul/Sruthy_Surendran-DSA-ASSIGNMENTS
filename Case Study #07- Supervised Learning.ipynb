{
 "cells": [
  {
   "cell_type": "markdown",
   "id": "3c5d41a5",
   "metadata": {},
   "source": [
    "# Case study on Supervised learning"
   ]
  },
  {
   "cell_type": "markdown",
   "id": "8339d59c",
   "metadata": {},
   "source": [
    "Do the following in the iris dataset.\n",
    "1. Read the dataset to the python environment.\n",
    "2. Do necessary pre-processing steps.\n",
    "3. Find out which classification model gives the best result to predict iris\n",
    "species.(also do random forest algorithm)"
   ]
  },
  {
   "cell_type": "code",
   "execution_count": 1,
   "id": "363da72c",
   "metadata": {},
   "outputs": [],
   "source": [
    "# Importing the required libraries\n",
    "\n",
    "import numpy as np\n",
    "import pandas as pd\n",
    "import seaborn as sns\n",
    "import matplotlib.pyplot as plt"
   ]
  },
  {
   "cell_type": "markdown",
   "id": "ff14b13d",
   "metadata": {},
   "source": [
    "# 1. Read the dataset to the python environment"
   ]
  },
  {
   "cell_type": "code",
   "execution_count": 2,
   "id": "30c3e929",
   "metadata": {},
   "outputs": [
    {
     "data": {
      "text/html": [
       "<div>\n",
       "<style scoped>\n",
       "    .dataframe tbody tr th:only-of-type {\n",
       "        vertical-align: middle;\n",
       "    }\n",
       "\n",
       "    .dataframe tbody tr th {\n",
       "        vertical-align: top;\n",
       "    }\n",
       "\n",
       "    .dataframe thead th {\n",
       "        text-align: right;\n",
       "    }\n",
       "</style>\n",
       "<table border=\"1\" class=\"dataframe\">\n",
       "  <thead>\n",
       "    <tr style=\"text-align: right;\">\n",
       "      <th></th>\n",
       "      <th>SL</th>\n",
       "      <th>SW</th>\n",
       "      <th>PL</th>\n",
       "      <th>PW</th>\n",
       "      <th>Classification</th>\n",
       "    </tr>\n",
       "  </thead>\n",
       "  <tbody>\n",
       "    <tr>\n",
       "      <th>0</th>\n",
       "      <td>5.1</td>\n",
       "      <td>3.5</td>\n",
       "      <td>1.4</td>\n",
       "      <td>0.2</td>\n",
       "      <td>Iris-setosa</td>\n",
       "    </tr>\n",
       "    <tr>\n",
       "      <th>1</th>\n",
       "      <td>4.9</td>\n",
       "      <td>3.0</td>\n",
       "      <td>1.4</td>\n",
       "      <td>0.2</td>\n",
       "      <td>Iris-setosa</td>\n",
       "    </tr>\n",
       "    <tr>\n",
       "      <th>2</th>\n",
       "      <td>NaN</td>\n",
       "      <td>3.2</td>\n",
       "      <td>1.3</td>\n",
       "      <td>0.2</td>\n",
       "      <td>Iris-setosa</td>\n",
       "    </tr>\n",
       "    <tr>\n",
       "      <th>3</th>\n",
       "      <td>4.6</td>\n",
       "      <td>3.1</td>\n",
       "      <td>1.5</td>\n",
       "      <td>0.2</td>\n",
       "      <td>Iris-setosa</td>\n",
       "    </tr>\n",
       "    <tr>\n",
       "      <th>4</th>\n",
       "      <td>5.0</td>\n",
       "      <td>3.6</td>\n",
       "      <td>1.4</td>\n",
       "      <td>0.2</td>\n",
       "      <td>Iris-setosa</td>\n",
       "    </tr>\n",
       "    <tr>\n",
       "      <th>...</th>\n",
       "      <td>...</td>\n",
       "      <td>...</td>\n",
       "      <td>...</td>\n",
       "      <td>...</td>\n",
       "      <td>...</td>\n",
       "    </tr>\n",
       "    <tr>\n",
       "      <th>145</th>\n",
       "      <td>6.7</td>\n",
       "      <td>3.0</td>\n",
       "      <td>5.2</td>\n",
       "      <td>2.3</td>\n",
       "      <td>Iris-virginica</td>\n",
       "    </tr>\n",
       "    <tr>\n",
       "      <th>146</th>\n",
       "      <td>6.3</td>\n",
       "      <td>2.5</td>\n",
       "      <td>5.0</td>\n",
       "      <td>1.9</td>\n",
       "      <td>Iris-virginica</td>\n",
       "    </tr>\n",
       "    <tr>\n",
       "      <th>147</th>\n",
       "      <td>6.5</td>\n",
       "      <td>3.0</td>\n",
       "      <td>NaN</td>\n",
       "      <td>2.0</td>\n",
       "      <td>Iris-virginica</td>\n",
       "    </tr>\n",
       "    <tr>\n",
       "      <th>148</th>\n",
       "      <td>6.2</td>\n",
       "      <td>3.4</td>\n",
       "      <td>5.4</td>\n",
       "      <td>2.3</td>\n",
       "      <td>Iris-virginica</td>\n",
       "    </tr>\n",
       "    <tr>\n",
       "      <th>149</th>\n",
       "      <td>5.9</td>\n",
       "      <td>3.0</td>\n",
       "      <td>5.1</td>\n",
       "      <td>1.8</td>\n",
       "      <td>Iris-virginica</td>\n",
       "    </tr>\n",
       "  </tbody>\n",
       "</table>\n",
       "<p>150 rows × 5 columns</p>\n",
       "</div>"
      ],
      "text/plain": [
       "      SL   SW   PL   PW  Classification\n",
       "0    5.1  3.5  1.4  0.2     Iris-setosa\n",
       "1    4.9  3.0  1.4  0.2     Iris-setosa\n",
       "2    NaN  3.2  1.3  0.2     Iris-setosa\n",
       "3    4.6  3.1  1.5  0.2     Iris-setosa\n",
       "4    5.0  3.6  1.4  0.2     Iris-setosa\n",
       "..   ...  ...  ...  ...             ...\n",
       "145  6.7  3.0  5.2  2.3  Iris-virginica\n",
       "146  6.3  2.5  5.0  1.9  Iris-virginica\n",
       "147  6.5  3.0  NaN  2.0  Iris-virginica\n",
       "148  6.2  3.4  5.4  2.3  Iris-virginica\n",
       "149  5.9  3.0  5.1  1.8  Iris-virginica\n",
       "\n",
       "[150 rows x 5 columns]"
      ]
     },
     "execution_count": 2,
     "metadata": {},
     "output_type": "execute_result"
    }
   ],
   "source": [
    "# Read the iris_dataset to the python environment.\n",
    "# Loading the excel file into a pandas dataframe.\n",
    "\n",
    "iris_data= pd.read_excel(r'C:\\ict\\Assignments\\8. Case study 7 Supervised learning\\iris.xls')\n",
    "iris_data"
   ]
  },
  {
   "cell_type": "code",
   "execution_count": 3,
   "id": "9ec5c2e9",
   "metadata": {},
   "outputs": [
    {
     "data": {
      "text/html": [
       "<div>\n",
       "<style scoped>\n",
       "    .dataframe tbody tr th:only-of-type {\n",
       "        vertical-align: middle;\n",
       "    }\n",
       "\n",
       "    .dataframe tbody tr th {\n",
       "        vertical-align: top;\n",
       "    }\n",
       "\n",
       "    .dataframe thead th {\n",
       "        text-align: right;\n",
       "    }\n",
       "</style>\n",
       "<table border=\"1\" class=\"dataframe\">\n",
       "  <thead>\n",
       "    <tr style=\"text-align: right;\">\n",
       "      <th></th>\n",
       "      <th>SL</th>\n",
       "      <th>SW</th>\n",
       "      <th>PL</th>\n",
       "      <th>PW</th>\n",
       "    </tr>\n",
       "  </thead>\n",
       "  <tbody>\n",
       "    <tr>\n",
       "      <th>count</th>\n",
       "      <td>143.000000</td>\n",
       "      <td>144.000000</td>\n",
       "      <td>144.000000</td>\n",
       "      <td>150.000000</td>\n",
       "    </tr>\n",
       "    <tr>\n",
       "      <th>mean</th>\n",
       "      <td>5.855944</td>\n",
       "      <td>3.049306</td>\n",
       "      <td>3.756250</td>\n",
       "      <td>1.198667</td>\n",
       "    </tr>\n",
       "    <tr>\n",
       "      <th>std</th>\n",
       "      <td>0.828168</td>\n",
       "      <td>0.430644</td>\n",
       "      <td>1.761306</td>\n",
       "      <td>0.763161</td>\n",
       "    </tr>\n",
       "    <tr>\n",
       "      <th>min</th>\n",
       "      <td>4.300000</td>\n",
       "      <td>2.000000</td>\n",
       "      <td>1.000000</td>\n",
       "      <td>0.100000</td>\n",
       "    </tr>\n",
       "    <tr>\n",
       "      <th>25%</th>\n",
       "      <td>5.100000</td>\n",
       "      <td>2.800000</td>\n",
       "      <td>1.600000</td>\n",
       "      <td>0.300000</td>\n",
       "    </tr>\n",
       "    <tr>\n",
       "      <th>50%</th>\n",
       "      <td>5.800000</td>\n",
       "      <td>3.000000</td>\n",
       "      <td>4.350000</td>\n",
       "      <td>1.300000</td>\n",
       "    </tr>\n",
       "    <tr>\n",
       "      <th>75%</th>\n",
       "      <td>6.400000</td>\n",
       "      <td>3.300000</td>\n",
       "      <td>5.100000</td>\n",
       "      <td>1.800000</td>\n",
       "    </tr>\n",
       "    <tr>\n",
       "      <th>max</th>\n",
       "      <td>7.900000</td>\n",
       "      <td>4.400000</td>\n",
       "      <td>6.900000</td>\n",
       "      <td>2.500000</td>\n",
       "    </tr>\n",
       "  </tbody>\n",
       "</table>\n",
       "</div>"
      ],
      "text/plain": [
       "               SL          SW          PL          PW\n",
       "count  143.000000  144.000000  144.000000  150.000000\n",
       "mean     5.855944    3.049306    3.756250    1.198667\n",
       "std      0.828168    0.430644    1.761306    0.763161\n",
       "min      4.300000    2.000000    1.000000    0.100000\n",
       "25%      5.100000    2.800000    1.600000    0.300000\n",
       "50%      5.800000    3.000000    4.350000    1.300000\n",
       "75%      6.400000    3.300000    5.100000    1.800000\n",
       "max      7.900000    4.400000    6.900000    2.500000"
      ]
     },
     "execution_count": 3,
     "metadata": {},
     "output_type": "execute_result"
    }
   ],
   "source": [
    "iris_data.describe()"
   ]
  },
  {
   "cell_type": "markdown",
   "id": "1d9b8093",
   "metadata": {},
   "source": [
    "# 2. Do necessary pre-processing steps."
   ]
  },
  {
   "cell_type": "code",
   "execution_count": 4,
   "id": "1063a74f",
   "metadata": {},
   "outputs": [
    {
     "data": {
      "text/html": [
       "<div>\n",
       "<style scoped>\n",
       "    .dataframe tbody tr th:only-of-type {\n",
       "        vertical-align: middle;\n",
       "    }\n",
       "\n",
       "    .dataframe tbody tr th {\n",
       "        vertical-align: top;\n",
       "    }\n",
       "\n",
       "    .dataframe thead th {\n",
       "        text-align: right;\n",
       "    }\n",
       "</style>\n",
       "<table border=\"1\" class=\"dataframe\">\n",
       "  <thead>\n",
       "    <tr style=\"text-align: right;\">\n",
       "      <th></th>\n",
       "      <th>SL</th>\n",
       "      <th>SW</th>\n",
       "      <th>PL</th>\n",
       "      <th>PW</th>\n",
       "      <th>Classification</th>\n",
       "    </tr>\n",
       "  </thead>\n",
       "  <tbody>\n",
       "    <tr>\n",
       "      <th>0</th>\n",
       "      <td>5.1</td>\n",
       "      <td>3.5</td>\n",
       "      <td>1.4</td>\n",
       "      <td>0.2</td>\n",
       "      <td>Iris-setosa</td>\n",
       "    </tr>\n",
       "    <tr>\n",
       "      <th>1</th>\n",
       "      <td>4.9</td>\n",
       "      <td>3.0</td>\n",
       "      <td>1.4</td>\n",
       "      <td>0.2</td>\n",
       "      <td>Iris-setosa</td>\n",
       "    </tr>\n",
       "    <tr>\n",
       "      <th>2</th>\n",
       "      <td>NaN</td>\n",
       "      <td>3.2</td>\n",
       "      <td>1.3</td>\n",
       "      <td>0.2</td>\n",
       "      <td>Iris-setosa</td>\n",
       "    </tr>\n",
       "    <tr>\n",
       "      <th>3</th>\n",
       "      <td>4.6</td>\n",
       "      <td>3.1</td>\n",
       "      <td>1.5</td>\n",
       "      <td>0.2</td>\n",
       "      <td>Iris-setosa</td>\n",
       "    </tr>\n",
       "    <tr>\n",
       "      <th>4</th>\n",
       "      <td>5.0</td>\n",
       "      <td>3.6</td>\n",
       "      <td>1.4</td>\n",
       "      <td>0.2</td>\n",
       "      <td>Iris-setosa</td>\n",
       "    </tr>\n",
       "  </tbody>\n",
       "</table>\n",
       "</div>"
      ],
      "text/plain": [
       "    SL   SW   PL   PW Classification\n",
       "0  5.1  3.5  1.4  0.2    Iris-setosa\n",
       "1  4.9  3.0  1.4  0.2    Iris-setosa\n",
       "2  NaN  3.2  1.3  0.2    Iris-setosa\n",
       "3  4.6  3.1  1.5  0.2    Iris-setosa\n",
       "4  5.0  3.6  1.4  0.2    Iris-setosa"
      ]
     },
     "execution_count": 4,
     "metadata": {},
     "output_type": "execute_result"
    }
   ],
   "source": [
    "# check iris_data\n",
    "\n",
    "iris_data.head()"
   ]
  },
  {
   "cell_type": "code",
   "execution_count": 5,
   "id": "ec3ab629",
   "metadata": {},
   "outputs": [
    {
     "name": "stdout",
     "output_type": "stream",
     "text": [
      "<class 'pandas.core.frame.DataFrame'>\n",
      "RangeIndex: 150 entries, 0 to 149\n",
      "Data columns (total 5 columns):\n",
      " #   Column          Non-Null Count  Dtype  \n",
      "---  ------          --------------  -----  \n",
      " 0   SL              143 non-null    float64\n",
      " 1   SW              144 non-null    float64\n",
      " 2   PL              144 non-null    float64\n",
      " 3   PW              150 non-null    float64\n",
      " 4   Classification  150 non-null    object \n",
      "dtypes: float64(4), object(1)\n",
      "memory usage: 6.0+ KB\n"
     ]
    }
   ],
   "source": [
    "iris_data.info()"
   ]
  },
  {
   "cell_type": "code",
   "execution_count": 6,
   "id": "3f1f5121",
   "metadata": {},
   "outputs": [
    {
     "data": {
      "text/plain": [
       "(150, 5)"
      ]
     },
     "execution_count": 6,
     "metadata": {},
     "output_type": "execute_result"
    }
   ],
   "source": [
    "# to identify number of rows and columns\n",
    "\n",
    "iris_data.shape"
   ]
  },
  {
   "cell_type": "code",
   "execution_count": 7,
   "id": "c7412b2d",
   "metadata": {},
   "outputs": [],
   "source": [
    "# 150 rows & 5 columns"
   ]
  },
  {
   "cell_type": "code",
   "execution_count": 8,
   "id": "fb37a8b5",
   "metadata": {},
   "outputs": [
    {
     "data": {
      "text/plain": [
       "SL                7\n",
       "SW                6\n",
       "PL                6\n",
       "PW                0\n",
       "Classification    0\n",
       "dtype: int64"
      ]
     },
     "execution_count": 8,
     "metadata": {},
     "output_type": "execute_result"
    }
   ],
   "source": [
    "# to check if there is any null value\n",
    "iris_data.isna().sum()"
   ]
  },
  {
   "cell_type": "code",
   "execution_count": 9,
   "id": "9ec5620a",
   "metadata": {},
   "outputs": [],
   "source": [
    "# some missing values are there"
   ]
  },
  {
   "cell_type": "markdown",
   "id": "1957e9af",
   "metadata": {},
   "source": [
    "Flling missing values"
   ]
  },
  {
   "cell_type": "code",
   "execution_count": 10,
   "id": "b547094c",
   "metadata": {},
   "outputs": [
    {
     "data": {
      "text/plain": [
       "SL                float64\n",
       "SW                float64\n",
       "PL                float64\n",
       "PW                float64\n",
       "Classification     object\n",
       "dtype: object"
      ]
     },
     "execution_count": 10,
     "metadata": {},
     "output_type": "execute_result"
    }
   ],
   "source": [
    "# to identify the data type of each column\n",
    "iris_data.dtypes"
   ]
  },
  {
   "cell_type": "code",
   "execution_count": 11,
   "id": "86ffee65",
   "metadata": {},
   "outputs": [],
   "source": [
    "# both numerical and categorical data are present\n",
    "# we will plot numerical values and check  this qness"
   ]
  },
  {
   "cell_type": "code",
   "execution_count": 12,
   "id": "b75ca2bf",
   "metadata": {
    "scrolled": true
   },
   "outputs": [
    {
     "data": {
      "text/plain": [
       "<function matplotlib.pyplot.show(close=None, block=None)>"
      ]
     },
     "execution_count": 12,
     "metadata": {},
     "output_type": "execute_result"
    },
    {
     "data": {
      "image/png": "[encoded data removed]",
      "text/plain": [
       "<Figure size 1440x1080 with 4 Axes>"
      ]
     },
     "metadata": {
      "needs_background": "light"
     },
     "output_type": "display_data"
    }
   ],
   "source": [
    "freqgraph = iris_data.select_dtypes(include=['float'])\n",
    "freqgraph.hist(figsize=(20,15))\n",
    "plt.show"
   ]
  },
  {
   "cell_type": "code",
   "execution_count": 13,
   "id": "6922454d",
   "metadata": {},
   "outputs": [
    {
     "data": {
      "text/plain": [
       "Index(['SL', 'SW', 'PL', 'PW', 'Classification'], dtype='object')"
      ]
     },
     "execution_count": 13,
     "metadata": {},
     "output_type": "execute_result"
    }
   ],
   "source": [
    "iris_data.columns"
   ]
  },
  {
   "cell_type": "code",
   "execution_count": 14,
   "id": "80f0521b",
   "metadata": {},
   "outputs": [],
   "source": [
    "for i in ['SL', 'SW', 'PL']:\n",
    "    iris_data[i] = iris_data[i].fillna(iris_data[i].median())"
   ]
  },
  {
   "cell_type": "code",
   "execution_count": 15,
   "id": "dc584895",
   "metadata": {},
   "outputs": [
    {
     "data": {
      "text/plain": [
       "SL                0\n",
       "SW                0\n",
       "PL                0\n",
       "PW                0\n",
       "Classification    0\n",
       "dtype: int64"
      ]
     },
     "execution_count": 15,
     "metadata": {},
     "output_type": "execute_result"
    }
   ],
   "source": [
    "iris_data.isna().sum()"
   ]
  },
  {
   "cell_type": "code",
   "execution_count": 16,
   "id": "55687ae4",
   "metadata": {},
   "outputs": [],
   "source": [
    "# no more null values present"
   ]
  },
  {
   "cell_type": "markdown",
   "id": "a2a463f4",
   "metadata": {},
   "source": [
    "# OUTLIERS"
   ]
  },
  {
   "cell_type": "code",
   "execution_count": 17,
   "id": "0c49c591",
   "metadata": {},
   "outputs": [],
   "source": [
    "# outliers are observations which differ from an overall pattern on a sample dataset\n",
    "# outliers badly effect mean and standard deviaion\n",
    "# to check whether outliers are present in the dataset \n",
    "# we will plot box plots of different numerical variables\n",
    "# we will plot SL(Sepal Length) column first"
   ]
  },
  {
   "cell_type": "markdown",
   "id": "a9c5f8ad",
   "metadata": {},
   "source": [
    "1..Checking for outliers in 'SL' column"
   ]
  },
  {
   "cell_type": "code",
   "execution_count": 18,
   "id": "fb9d8a63",
   "metadata": {},
   "outputs": [
    {
     "data": {
      "text/plain": [
       "Text(0.5, 1.0, 'Box Plot Of SL')"
      ]
     },
     "execution_count": 18,
     "metadata": {},
     "output_type": "execute_result"
    },
    {
     "data": {
      "image/png": "[encoded data removed]",
      "text/plain": [
       "<Figure size 432x288 with 1 Axes>"
      ]
     },
     "metadata": {
      "needs_background": "light"
     },
     "output_type": "display_data"
    }
   ],
   "source": [
    "plt.boxplot(iris_data['SL'])\n",
    "plt.title('Box Plot Of SL')"
   ]
  },
  {
   "cell_type": "code",
   "execution_count": 19,
   "id": "b137adda",
   "metadata": {},
   "outputs": [
    {
     "name": "stdout",
     "output_type": "stream",
     "text": [
      "5.2\n",
      "5.8\n",
      "6.4\n",
      "3.4\n",
      "8.200000000000001\n",
      "\n",
      "outlier= []\n"
     ]
    }
   ],
   "source": [
    "# Now we will find differet quartile values of 'SL' column\n",
    "#create variable Q1,Q2,Q3 using the percentile parameter in numpy\n",
    "Q1 = np.percentile(iris_data['SL'], 25, interpolation='midpoint')\n",
    "Q2 = np.percentile(iris_data['SL'], 50, interpolation='midpoint')\n",
    "Q3 = np.percentile(iris_data['SL'], 75, interpolation='midpoint')\n",
    "\n",
    "# CHECK QUARTILE VALUES\n",
    "print(Q1)\n",
    "print(Q2)\n",
    "print(Q3)\n",
    "\n",
    "# find interquartile range IQR\n",
    "IQR = Q3-Q1\n",
    "IQR\n",
    "\n",
    "# from IQR we can find the lower limit and the upper limit and we can remove the values \n",
    "#     which are below lower limit and above upper limit\n",
    "# for that creating a variable lower limit and upper limit\n",
    "low_lim = Q1-1.5*IQR\n",
    "up_lim = Q3+1.5*IQR\n",
    "\n",
    "\n",
    "print(low_lim)\n",
    "print(up_lim)\n",
    "\n",
    "outlier = [] \n",
    "for x in iris_data['SL']: \n",
    "    if((x>up_lim)or(x<low_lim)): \n",
    "      outlier.append(x)\n",
    "\n",
    "print('\\noutlier=',outlier)"
   ]
  },
  {
   "cell_type": "code",
   "execution_count": 20,
   "id": "bff10feb",
   "metadata": {},
   "outputs": [],
   "source": [
    "# No outliers present SL"
   ]
  },
  {
   "cell_type": "markdown",
   "id": "e392dfc1",
   "metadata": {},
   "source": [
    "2..Checking for outliers in 'SW' column"
   ]
  },
  {
   "cell_type": "code",
   "execution_count": 21,
   "id": "05707844",
   "metadata": {},
   "outputs": [
    {
     "data": {
      "text/plain": [
       "Text(0.5, 1.0, 'Box Plot Of SW')"
      ]
     },
     "execution_count": 21,
     "metadata": {},
     "output_type": "execute_result"
    },
    {
     "data": {
      "image/png": "[encoded data removed]",
      "text/plain": [
       "<Figure size 432x288 with 1 Axes>"
      ]
     },
     "metadata": {
      "needs_background": "light"
     },
     "output_type": "display_data"
    }
   ],
   "source": [
    "plt.boxplot(iris_data['SW'])\n",
    "plt.title('Box Plot Of SW')"
   ]
  },
  {
   "cell_type": "code",
   "execution_count": 22,
   "id": "5517ab01",
   "metadata": {},
   "outputs": [
    {
     "name": "stdout",
     "output_type": "stream",
     "text": [
      "Q1 is 2.8\n",
      "Q2 is 3.0\n",
      "Q3 is 3.25\n",
      "IQR is 0.4500000000000002\n",
      "low_lim is 2.1249999999999996\n",
      "up_lim is 3.9250000000000003\n",
      "\n",
      "outlier= [4.0, 4.4, 4.1, 4.2, 2.0]\n"
     ]
    }
   ],
   "source": [
    "# Now we will find differet quartile values of 'SW' column\n",
    "#create variable Q1,Q2,Q3 using the percentile parameter in numpy\n",
    "Q1 = np.percentile(iris_data['SW'], 25, interpolation='midpoint')\n",
    "Q2 = np.percentile(iris_data['SW'], 50, interpolation='midpoint')\n",
    "Q3 = np.percentile(iris_data['SW'], 75, interpolation='midpoint')\n",
    "\n",
    "# CHECK QUARTILE VALUES\n",
    "print('Q1 is',Q1)\n",
    "print('Q2 is',Q2)\n",
    "print('Q3 is',Q3)\n",
    "\n",
    "# find interquartile range IQR\n",
    "IQR = Q3-Q1\n",
    "print('IQR is',IQR)\n",
    "\n",
    "# from IQR we can find the lower limit and the upper limit and we can remove the values \n",
    "#     which are below lower limit and above upper limit\n",
    "# for that creating a variable lower limit and upper limit\n",
    "low_lim = Q1-1.5*IQR\n",
    "up_lim = Q3+1.5*IQR\n",
    "\n",
    "\n",
    "print('low_lim is',low_lim)\n",
    "print('up_lim is',up_lim)\n",
    "\n",
    "outlier = [] \n",
    "for x in iris_data['SW']: \n",
    "    if((x>up_lim)or(x<low_lim)): \n",
    "      outlier.append(x)\n",
    "\n",
    "print('\\noutlier=',outlier)"
   ]
  },
  {
   "cell_type": "code",
   "execution_count": 23,
   "id": "d774a15d",
   "metadata": {},
   "outputs": [
    {
     "data": {
      "text/plain": [
       "Int64Index([14, 15, 32, 33], dtype='int64')"
      ]
     },
     "execution_count": 23,
     "metadata": {},
     "output_type": "execute_result"
    }
   ],
   "source": [
    "# to find the index of this outliers\n",
    "#variable index1\n",
    "ind1 = iris_data['SW']>up_lim # taking all the values which are greater than upper limit \n",
    "                                        #  to index 1 and am locating the index values of those values \n",
    "                                         #  from data\n",
    "iris_data.loc[ind1].index"
   ]
  },
  {
   "cell_type": "code",
   "execution_count": 24,
   "id": "fbde6d57",
   "metadata": {},
   "outputs": [],
   "source": [
    "#we can drop it using data.drop\n",
    "#no need to specify the axis because it is actually present in rows\n",
    "iris_data.drop([14, 15, 32, 33],inplace=True)"
   ]
  },
  {
   "cell_type": "code",
   "execution_count": 25,
   "id": "f9724d22",
   "metadata": {},
   "outputs": [
    {
     "data": {
      "text/plain": [
       "Int64Index([60], dtype='int64')"
      ]
     },
     "execution_count": 25,
     "metadata": {},
     "output_type": "execute_result"
    }
   ],
   "source": [
    "ind2 = iris_data['SW']<low_lim # taking all the values which are lesser than lower limit \n",
    "                                        #  to index 2 and am locating the index values of those values \n",
    "                                         #  from data\n",
    "iris_data.loc[ind2].index"
   ]
  },
  {
   "cell_type": "code",
   "execution_count": 26,
   "id": "51d93550",
   "metadata": {},
   "outputs": [],
   "source": [
    "iris_data.drop([60],inplace=True)"
   ]
  },
  {
   "cell_type": "code",
   "execution_count": 27,
   "id": "83b8014e",
   "metadata": {},
   "outputs": [],
   "source": [
    "#again plot SW and check outliers are reduced"
   ]
  },
  {
   "cell_type": "code",
   "execution_count": 28,
   "id": "97a265ff",
   "metadata": {},
   "outputs": [
    {
     "data": {
      "text/plain": [
       "Text(0.5, 1.0, 'Box Plot Of SW')"
      ]
     },
     "execution_count": 28,
     "metadata": {},
     "output_type": "execute_result"
    },
    {
     "data": {
      "image/png": "[encoded data removed]",
      "text/plain": [
       "<Figure size 432x288 with 1 Axes>"
      ]
     },
     "metadata": {
      "needs_background": "light"
     },
     "output_type": "display_data"
    }
   ],
   "source": [
    "plt.boxplot(iris_data['SW'])\n",
    "plt.title('Box Plot Of SW')"
   ]
  },
  {
   "cell_type": "markdown",
   "id": "c11c1e20",
   "metadata": {},
   "source": [
    "3..Checking for outliers in 'PL' column"
   ]
  },
  {
   "cell_type": "code",
   "execution_count": 29,
   "id": "31f2aa1a",
   "metadata": {},
   "outputs": [
    {
     "data": {
      "text/plain": [
       "Text(0.5, 1.0, 'Box Plot Of PL')"
      ]
     },
     "execution_count": 29,
     "metadata": {},
     "output_type": "execute_result"
    },
    {
     "data": {
      "image/png": "[encoded data removed]",
      "text/plain": [
       "<Figure size 432x288 with 1 Axes>"
      ]
     },
     "metadata": {
      "needs_background": "light"
     },
     "output_type": "display_data"
    }
   ],
   "source": [
    "plt.boxplot(iris_data['PL'])\n",
    "plt.title('Box Plot Of PL')"
   ]
  },
  {
   "cell_type": "code",
   "execution_count": 30,
   "id": "c938fd78",
   "metadata": {},
   "outputs": [
    {
     "name": "stdout",
     "output_type": "stream",
     "text": [
      "Q1 is 1.6\n",
      "Q2 is 4.35\n",
      "Q3 is 5.1\n",
      "IQR is 3.4999999999999996\n",
      "low_lim is -3.649999999999999\n",
      "up_lim is 10.349999999999998\n",
      "\n",
      "outlier= []\n"
     ]
    }
   ],
   "source": [
    "# Now we will find differet quartile values of 'SW' column\n",
    "#create variable Q1,Q2,Q3 using the percentile parameter in numpy\n",
    "Q1 = np.percentile(iris_data['PL'], 25, interpolation='midpoint')\n",
    "Q2 = np.percentile(iris_data['PL'], 50, interpolation='midpoint')\n",
    "Q3 = np.percentile(iris_data['PL'], 75, interpolation='midpoint')\n",
    "\n",
    "# CHECK QUARTILE VALUES\n",
    "print('Q1 is',Q1)\n",
    "print('Q2 is',Q2)\n",
    "print('Q3 is',Q3)\n",
    "\n",
    "# find interquartile range IQR\n",
    "IQR = Q3-Q1\n",
    "print('IQR is',IQR)\n",
    "\n",
    "# from IQR we can find the lower limit and the upper limit and we can remove the values \n",
    "#     which are below lower limit and above upper limit\n",
    "# for that creating a variable lower limit and upper limit\n",
    "low_lim = Q1-1.5*IQR\n",
    "up_lim = Q3+1.5*IQR\n",
    "\n",
    "\n",
    "print('low_lim is',low_lim)\n",
    "print('up_lim is',up_lim)\n",
    "\n",
    "outlier = [] \n",
    "for x in iris_data['PL']: \n",
    "    if((x>up_lim)or(x<low_lim)): \n",
    "      outlier.append(x)\n",
    "\n",
    "print('\\noutlier=',outlier)"
   ]
  },
  {
   "cell_type": "code",
   "execution_count": 31,
   "id": "bd77d668",
   "metadata": {},
   "outputs": [],
   "source": [
    "# No outliers present PL"
   ]
  },
  {
   "cell_type": "markdown",
   "id": "d601c8f6",
   "metadata": {},
   "source": [
    "4..Checking for outliers in 'PW' column"
   ]
  },
  {
   "cell_type": "code",
   "execution_count": 32,
   "id": "4b8649e3",
   "metadata": {},
   "outputs": [
    {
     "data": {
      "text/plain": [
       "Text(0.5, 1.0, 'Box Plot Of PW')"
      ]
     },
     "execution_count": 32,
     "metadata": {},
     "output_type": "execute_result"
    },
    {
     "data": {
      "image/png": "[encoded data removed]",
      "text/plain": [
       "<Figure size 432x288 with 1 Axes>"
      ]
     },
     "metadata": {
      "needs_background": "light"
     },
     "output_type": "display_data"
    }
   ],
   "source": [
    "plt.boxplot(iris_data['PW'])\n",
    "plt.title('Box Plot Of PW')"
   ]
  },
  {
   "cell_type": "code",
   "execution_count": 33,
   "id": "60eff13a",
   "metadata": {},
   "outputs": [
    {
     "name": "stdout",
     "output_type": "stream",
     "text": [
      "Q1 is 0.3\n",
      "Q2 is 1.3\n",
      "Q3 is 1.8\n",
      "IQR is 1.5\n",
      "low_lim is -1.95\n",
      "up_lim is 4.05\n",
      "\n",
      "outlier= []\n"
     ]
    }
   ],
   "source": [
    "# Now we will find differet quartile values of 'SW' column\n",
    "#create variable Q1,Q2,Q3 using the percentile parameter in numpy\n",
    "Q1 = np.percentile(iris_data['PW'], 25, interpolation='midpoint')\n",
    "Q2 = np.percentile(iris_data['PW'], 50, interpolation='midpoint')\n",
    "Q3 = np.percentile(iris_data['PW'], 75, interpolation='midpoint')\n",
    "\n",
    "# CHECK QUARTILE VALUES\n",
    "print('Q1 is',Q1)\n",
    "print('Q2 is',Q2)\n",
    "print('Q3 is',Q3)\n",
    "\n",
    "# find interquartile range IQR\n",
    "IQR = Q3-Q1\n",
    "print('IQR is',IQR)\n",
    "\n",
    "# from IQR we can find the lower limit and the upper limit and we can remove the values \n",
    "#     which are below lower limit and above upper limit\n",
    "# for that creating a variable lower limit and upper limit\n",
    "low_lim = Q1-1.5*IQR\n",
    "up_lim = Q3+1.5*IQR\n",
    "\n",
    "\n",
    "print('low_lim is',low_lim)\n",
    "print('up_lim is',up_lim)\n",
    "\n",
    "outlier = [] \n",
    "for x in iris_data['PW']: \n",
    "    if((x>up_lim)or(x<low_lim)): \n",
    "      outlier.append(x)\n",
    "\n",
    "print('\\noutlier=',outlier)"
   ]
  },
  {
   "cell_type": "code",
   "execution_count": 34,
   "id": "e004c7e9",
   "metadata": {},
   "outputs": [],
   "source": [
    "# No outliers present in PW"
   ]
  },
  {
   "cell_type": "markdown",
   "id": "d1f36b01",
   "metadata": {},
   "source": [
    "# ENCODING"
   ]
  },
  {
   "cell_type": "code",
   "execution_count": 35,
   "id": "c20dfbbf",
   "metadata": {},
   "outputs": [
    {
     "data": {
      "text/plain": [
       "SL                float64\n",
       "SW                float64\n",
       "PL                float64\n",
       "PW                float64\n",
       "Classification     object\n",
       "dtype: object"
      ]
     },
     "execution_count": 35,
     "metadata": {},
     "output_type": "execute_result"
    }
   ],
   "source": [
    "iris_data.dtypes"
   ]
  },
  {
   "cell_type": "code",
   "execution_count": 36,
   "id": "f287ef70",
   "metadata": {},
   "outputs": [],
   "source": [
    "# we have done 4 columns out of 5 columns in the iris dataset\n",
    "# one column left is the 'Classification' column which is the categorical variable\n",
    "# most of the machine learning algorithms cannot handle categorical variables\n",
    "# unless they are converted into a numerical value\n",
    "# so we need to convert Classification to a numerical variable\n",
    "#  can we do this using encoding"
   ]
  },
  {
   "cell_type": "code",
   "execution_count": 37,
   "id": "193e28d5",
   "metadata": {},
   "outputs": [],
   "source": [
    "# Encoding - process of converting data from one form to another\n",
    "# ENCODING is an important preprocessing step for the structured dataset in supervised learning"
   ]
  },
  {
   "cell_type": "code",
   "execution_count": 38,
   "id": "6abe1808",
   "metadata": {},
   "outputs": [
    {
     "data": {
      "text/plain": [
       "Index(['SL', 'SW', 'PL', 'PW', 'Classification'], dtype='object')"
      ]
     },
     "execution_count": 38,
     "metadata": {},
     "output_type": "execute_result"
    }
   ],
   "source": [
    "iris_data.columns"
   ]
  },
  {
   "cell_type": "markdown",
   "id": "7998ff67",
   "metadata": {},
   "source": [
    "ONE HOT ENCODING"
   ]
  },
  {
   "cell_type": "code",
   "execution_count": 39,
   "id": "80aea01f",
   "metadata": {},
   "outputs": [
    {
     "data": {
      "text/plain": [
       "3"
      ]
     },
     "execution_count": 39,
     "metadata": {},
     "output_type": "execute_result"
    }
   ],
   "source": [
    "# checking how many different values are there in the 'Classification' column\n",
    "\n",
    "iris_data.Classification.nunique()"
   ]
  },
  {
   "cell_type": "code",
   "execution_count": 40,
   "id": "19d2debf",
   "metadata": {},
   "outputs": [],
   "source": [
    "# it has 3 different values\n",
    "# after one hot encoding 3 different columns will be created"
   ]
  },
  {
   "cell_type": "code",
   "execution_count": 41,
   "id": "18dc51ab",
   "metadata": {},
   "outputs": [
    {
     "data": {
      "text/html": [
       "<div>\n",
       "<style scoped>\n",
       "    .dataframe tbody tr th:only-of-type {\n",
       "        vertical-align: middle;\n",
       "    }\n",
       "\n",
       "    .dataframe tbody tr th {\n",
       "        vertical-align: top;\n",
       "    }\n",
       "\n",
       "    .dataframe thead th {\n",
       "        text-align: right;\n",
       "    }\n",
       "</style>\n",
       "<table border=\"1\" class=\"dataframe\">\n",
       "  <thead>\n",
       "    <tr style=\"text-align: right;\">\n",
       "      <th></th>\n",
       "      <th>Iris-setosa</th>\n",
       "      <th>Iris-versicolor</th>\n",
       "      <th>Iris-virginica</th>\n",
       "    </tr>\n",
       "  </thead>\n",
       "  <tbody>\n",
       "    <tr>\n",
       "      <th>0</th>\n",
       "      <td>1</td>\n",
       "      <td>0</td>\n",
       "      <td>0</td>\n",
       "    </tr>\n",
       "    <tr>\n",
       "      <th>1</th>\n",
       "      <td>1</td>\n",
       "      <td>0</td>\n",
       "      <td>0</td>\n",
       "    </tr>\n",
       "    <tr>\n",
       "      <th>2</th>\n",
       "      <td>1</td>\n",
       "      <td>0</td>\n",
       "      <td>0</td>\n",
       "    </tr>\n",
       "    <tr>\n",
       "      <th>3</th>\n",
       "      <td>1</td>\n",
       "      <td>0</td>\n",
       "      <td>0</td>\n",
       "    </tr>\n",
       "    <tr>\n",
       "      <th>4</th>\n",
       "      <td>1</td>\n",
       "      <td>0</td>\n",
       "      <td>0</td>\n",
       "    </tr>\n",
       "    <tr>\n",
       "      <th>...</th>\n",
       "      <td>...</td>\n",
       "      <td>...</td>\n",
       "      <td>...</td>\n",
       "    </tr>\n",
       "    <tr>\n",
       "      <th>145</th>\n",
       "      <td>0</td>\n",
       "      <td>0</td>\n",
       "      <td>1</td>\n",
       "    </tr>\n",
       "    <tr>\n",
       "      <th>146</th>\n",
       "      <td>0</td>\n",
       "      <td>0</td>\n",
       "      <td>1</td>\n",
       "    </tr>\n",
       "    <tr>\n",
       "      <th>147</th>\n",
       "      <td>0</td>\n",
       "      <td>0</td>\n",
       "      <td>1</td>\n",
       "    </tr>\n",
       "    <tr>\n",
       "      <th>148</th>\n",
       "      <td>0</td>\n",
       "      <td>0</td>\n",
       "      <td>1</td>\n",
       "    </tr>\n",
       "    <tr>\n",
       "      <th>149</th>\n",
       "      <td>0</td>\n",
       "      <td>0</td>\n",
       "      <td>1</td>\n",
       "    </tr>\n",
       "  </tbody>\n",
       "</table>\n",
       "<p>145 rows × 3 columns</p>\n",
       "</div>"
      ],
      "text/plain": [
       "     Iris-setosa  Iris-versicolor  Iris-virginica\n",
       "0              1                0               0\n",
       "1              1                0               0\n",
       "2              1                0               0\n",
       "3              1                0               0\n",
       "4              1                0               0\n",
       "..           ...              ...             ...\n",
       "145            0                0               1\n",
       "146            0                0               1\n",
       "147            0                0               1\n",
       "148            0                0               1\n",
       "149            0                0               1\n",
       "\n",
       "[145 rows x 3 columns]"
      ]
     },
     "execution_count": 41,
     "metadata": {},
     "output_type": "execute_result"
    }
   ],
   "source": [
    "classification_encoded = pd.get_dummies(iris_data['Classification']) # this is the code to do one hot encoding using pandas\n",
    "                        \n",
    "classification_encoded"
   ]
  },
  {
   "cell_type": "code",
   "execution_count": 42,
   "id": "da65f333",
   "metadata": {},
   "outputs": [],
   "source": [
    "# now we have created the basic preprocessing steps \n",
    "# and we can create a linear regression model\n",
    "# first we will do a correlation"
   ]
  },
  {
   "cell_type": "code",
   "execution_count": 43,
   "id": "26b607a7",
   "metadata": {},
   "outputs": [
    {
     "data": {
      "text/plain": [
       "<AxesSubplot:>"
      ]
     },
     "execution_count": 43,
     "metadata": {},
     "output_type": "execute_result"
    },
    {
     "data": {
      "image/png": "[encoded data removed]",
      "text/plain": [
       "<Figure size 1440x576 with 2 Axes>"
      ]
     },
     "metadata": {
      "needs_background": "light"
     },
     "output_type": "display_data"
    }
   ],
   "source": [
    "corrmatrix= iris_data.corr()\n",
    "plt.subplots(figsize=(20,8))\n",
    "sns.heatmap(corrmatrix, vmin=0.4, vmax=0.9, annot=True, linewidths=0.2, cmap='YlGnBu')"
   ]
  },
  {
   "cell_type": "code",
   "execution_count": 44,
   "id": "6b65ae4d",
   "metadata": {},
   "outputs": [],
   "source": [
    "#Observation                        \n",
    "#The Sepal Width and Length are not correlated \n",
    "#The Petal Width and Length are highly correlated\n",
    "#We will use all the features for training the algorithm and check the accuracy."
   ]
  },
  {
   "cell_type": "markdown",
   "id": "7fc888ea",
   "metadata": {},
   "source": [
    "# 3. Find out which classification model gives the best result to predict iris species.(also do random forest algorithm)"
   ]
  },
  {
   "cell_type": "code",
   "execution_count": 45,
   "id": "d1fc2096",
   "metadata": {},
   "outputs": [],
   "source": [
    "# split the data set and create the model"
   ]
  },
  {
   "cell_type": "code",
   "execution_count": 46,
   "id": "b3d5b5c4",
   "metadata": {},
   "outputs": [
    {
     "data": {
      "text/plain": [
       "Index(['SL', 'SW', 'PL', 'PW', 'Classification'], dtype='object')"
      ]
     },
     "execution_count": 46,
     "metadata": {},
     "output_type": "execute_result"
    }
   ],
   "source": [
    "iris_data.columns"
   ]
  },
  {
   "cell_type": "code",
   "execution_count": 47,
   "id": "55adbec5",
   "metadata": {},
   "outputs": [],
   "source": [
    "# first am taking 'Classification' as my 'y' i need to predict that\n",
    "#and taking evrything else as x\n",
    "y = iris_data['Classification']\n",
    "x = iris_data.drop('Classification', axis =1)"
   ]
  },
  {
   "cell_type": "code",
   "execution_count": 48,
   "id": "17b908fc",
   "metadata": {},
   "outputs": [],
   "source": [
    "from sklearn.model_selection import train_test_split\n",
    "x_train,x_test,y_train,y_test = train_test_split(x,y,random_state=42,test_size=0.2)"
   ]
  },
  {
   "cell_type": "markdown",
   "id": "cb26cebd",
   "metadata": {},
   "source": [
    "# logistic regression"
   ]
  },
  {
   "cell_type": "code",
   "execution_count": 49,
   "id": "cacf9838",
   "metadata": {},
   "outputs": [],
   "source": [
    "from sklearn.linear_model import LogisticRegression"
   ]
  },
  {
   "cell_type": "code",
   "execution_count": 50,
   "id": "24d4e9c9",
   "metadata": {},
   "outputs": [
    {
     "name": "stderr",
     "output_type": "stream",
     "text": [
      "C:\\Users\\dell\\anaconda3\\lib\\site-packages\\sklearn\\linear_model\\_logistic.py:763: ConvergenceWarning: lbfgs failed to converge (status=1):\n",
      "STOP: TOTAL NO. of ITERATIONS REACHED LIMIT.\n",
      "\n",
      "Increase the number of iterations (max_iter) or scale the data as shown in:\n",
      "    https://scikit-learn.org/stable/modules/preprocessing.html\n",
      "Please also refer to the documentation for alternative solver options:\n",
      "    https://scikit-learn.org/stable/modules/linear_model.html#logistic-regression\n",
      "  n_iter_i = _check_optimize_result(\n"
     ]
    }
   ],
   "source": [
    "# create instance of the model and storing it to variable logit_model\n",
    "logit_model = LogisticRegression()\n",
    "\n",
    "# fit this into xtrain and y train to create the model\n",
    "logit_model.fit(x_train,y_train)\n",
    "\n",
    "# next predict the values in the x test using this model created\n",
    "# and storing those values to variable y_pred\n",
    "y_pred = logit_model.predict(x_test)"
   ]
  },
  {
   "cell_type": "code",
   "execution_count": 51,
   "id": "6ab49f4e",
   "metadata": {},
   "outputs": [],
   "source": [
    "# now lets see how our model performed\n",
    "# in regression we use MSE & R squared value to measure the performance of our model\n",
    "# in classification we will use metrices like confusion_matrix, accuracy_score, precision_score, \n",
    "# recall_score,f1_score to determine perfomance of our model"
   ]
  },
  {
   "cell_type": "code",
   "execution_count": 52,
   "id": "284ca429",
   "metadata": {},
   "outputs": [],
   "source": [
    "from sklearn.metrics import accuracy_score"
   ]
  },
  {
   "cell_type": "code",
   "execution_count": 53,
   "id": "63d4d755",
   "metadata": {},
   "outputs": [
    {
     "name": "stdout",
     "output_type": "stream",
     "text": [
      "Accuracy is: 0.9310344827586207\n"
     ]
    }
   ],
   "source": [
    "print('Accuracy is:',accuracy_score(y_test,y_pred)) # we have to compare y test with y predictions\n"
   ]
  },
  {
   "cell_type": "code",
   "execution_count": 54,
   "id": "a7242558",
   "metadata": {},
   "outputs": [],
   "source": [
    "# accuracy is 93%"
   ]
  },
  {
   "cell_type": "markdown",
   "id": "d8c35330",
   "metadata": {},
   "source": [
    "# KNN"
   ]
  },
  {
   "cell_type": "code",
   "execution_count": 55,
   "id": "2921d577",
   "metadata": {},
   "outputs": [],
   "source": [
    "# K NEAREST NEIGHBOUR(KNN) is also present in the SKlearn library but in the neighbours class"
   ]
  },
  {
   "cell_type": "code",
   "execution_count": 56,
   "id": "bf52c8d6",
   "metadata": {},
   "outputs": [],
   "source": [
    "# import and create the model"
   ]
  },
  {
   "cell_type": "code",
   "execution_count": 57,
   "id": "d6cb705b",
   "metadata": {},
   "outputs": [],
   "source": [
    "from sklearn.neighbors import KNeighborsClassifier"
   ]
  },
  {
   "cell_type": "code",
   "execution_count": 58,
   "id": "b9689e59",
   "metadata": {},
   "outputs": [],
   "source": [
    "from sklearn import metrics # for checking the model accuracy"
   ]
  },
  {
   "cell_type": "code",
   "execution_count": 59,
   "id": "67142340",
   "metadata": {},
   "outputs": [
    {
     "name": "stdout",
     "output_type": "stream",
     "text": [
      "The accuracy of KNN is:  0.9310344827586207\n"
     ]
    }
   ],
   "source": [
    "model = KNeighborsClassifier(n_neighbors=3) # this examines 3 neighbors for putting the data into class\n",
    "model.fit(x_train, y_train)\n",
    "prediction = model.predict(x_test)\n",
    "print('The accuracy of KNN is: ', metrics.accuracy_score(prediction, y_test))"
   ]
  },
  {
   "cell_type": "code",
   "execution_count": 60,
   "id": "0b358586",
   "metadata": {},
   "outputs": [
    {
     "name": "stderr",
     "output_type": "stream",
     "text": [
      "<ipython-input-60-f9988bf31446>:2: DeprecationWarning: The default dtype for empty Series will be 'object' instead of 'float64' in a future version. Specify a dtype explicitly to silence this warning.\n",
      "  a = pd.Series()\n"
     ]
    },
    {
     "data": {
      "text/plain": [
       "([<matplotlib.axis.XTick at 0xd15ad90>,\n",
       "  <matplotlib.axis.XTick at 0xd15ad30>,\n",
       "  <matplotlib.axis.XTick at 0xd156760>,\n",
       "  <matplotlib.axis.XTick at 0xd14f4c0>,\n",
       "  <matplotlib.axis.XTick at 0xd14f9d0>,\n",
       "  <matplotlib.axis.XTick at 0xd14fee0>,\n",
       "  <matplotlib.axis.XTick at 0xd19c430>,\n",
       "  <matplotlib.axis.XTick at 0xd19c940>,\n",
       "  <matplotlib.axis.XTick at 0xd19ce50>,\n",
       "  <matplotlib.axis.XTick at 0xd1a33a0>],\n",
       " [Text(0, 0, ''),\n",
       "  Text(0, 0, ''),\n",
       "  Text(0, 0, ''),\n",
       "  Text(0, 0, ''),\n",
       "  Text(0, 0, ''),\n",
       "  Text(0, 0, ''),\n",
       "  Text(0, 0, ''),\n",
       "  Text(0, 0, ''),\n",
       "  Text(0, 0, ''),\n",
       "  Text(0, 0, '')])"
      ]
     },
     "execution_count": 60,
     "metadata": {},
     "output_type": "execute_result"
    },
    {
     "data": {
      "image/png": "[encoded data removed]",
      "text/plain": [
       "<Figure size 432x288 with 1 Axes>"
      ]
     },
     "metadata": {
      "needs_background": "light"
     },
     "output_type": "display_data"
    }
   ],
   "source": [
    "a_index = list(range(1,11))\n",
    "a = pd.Series()\n",
    "for i in list(range(1,11)):\n",
    "    model = KNeighborsClassifier(n_neighbors=i)\n",
    "    model.fit(x_train, y_train)\n",
    "    prediction = model.predict(x_test)\n",
    "    a = a.append(pd.Series(metrics.accuracy_score(prediction, y_test)))\n",
    "plt.plot(a_index, a)\n",
    "x = [1,2,3,4,5,6,7,8,9,10]\n",
    "plt.xticks(x)"
   ]
  },
  {
   "cell_type": "code",
   "execution_count": 61,
   "id": "2cf29c91",
   "metadata": {},
   "outputs": [],
   "source": [
    "# The graph showing the accuracy for the KNN models using different values of n."
   ]
  },
  {
   "cell_type": "code",
   "execution_count": 62,
   "id": "79ac8ee4",
   "metadata": {},
   "outputs": [
    {
     "data": {
      "text/html": [
       "<div>\n",
       "<style scoped>\n",
       "    .dataframe tbody tr th:only-of-type {\n",
       "        vertical-align: middle;\n",
       "    }\n",
       "\n",
       "    .dataframe tbody tr th {\n",
       "        vertical-align: top;\n",
       "    }\n",
       "\n",
       "    .dataframe thead th {\n",
       "        text-align: right;\n",
       "    }\n",
       "</style>\n",
       "<table border=\"1\" class=\"dataframe\">\n",
       "  <thead>\n",
       "    <tr style=\"text-align: right;\">\n",
       "      <th></th>\n",
       "      <th>SL</th>\n",
       "      <th>SW</th>\n",
       "      <th>PL</th>\n",
       "      <th>PW</th>\n",
       "    </tr>\n",
       "  </thead>\n",
       "  <tbody>\n",
       "    <tr>\n",
       "      <th>count</th>\n",
       "      <td>145.000000</td>\n",
       "      <td>145.000000</td>\n",
       "      <td>145.000000</td>\n",
       "      <td>145.000000</td>\n",
       "    </tr>\n",
       "    <tr>\n",
       "      <th>mean</th>\n",
       "      <td>5.867586</td>\n",
       "      <td>3.023448</td>\n",
       "      <td>3.847586</td>\n",
       "      <td>1.226897</td>\n",
       "    </tr>\n",
       "    <tr>\n",
       "      <th>std</th>\n",
       "      <td>0.816827</td>\n",
       "      <td>0.374354</td>\n",
       "      <td>1.712265</td>\n",
       "      <td>0.758219</td>\n",
       "    </tr>\n",
       "    <tr>\n",
       "      <th>min</th>\n",
       "      <td>4.300000</td>\n",
       "      <td>2.200000</td>\n",
       "      <td>1.000000</td>\n",
       "      <td>0.100000</td>\n",
       "    </tr>\n",
       "    <tr>\n",
       "      <th>25%</th>\n",
       "      <td>5.200000</td>\n",
       "      <td>2.800000</td>\n",
       "      <td>1.600000</td>\n",
       "      <td>0.300000</td>\n",
       "    </tr>\n",
       "    <tr>\n",
       "      <th>50%</th>\n",
       "      <td>5.800000</td>\n",
       "      <td>3.000000</td>\n",
       "      <td>4.350000</td>\n",
       "      <td>1.300000</td>\n",
       "    </tr>\n",
       "    <tr>\n",
       "      <th>75%</th>\n",
       "      <td>6.400000</td>\n",
       "      <td>3.200000</td>\n",
       "      <td>5.100000</td>\n",
       "      <td>1.800000</td>\n",
       "    </tr>\n",
       "    <tr>\n",
       "      <th>max</th>\n",
       "      <td>7.900000</td>\n",
       "      <td>3.900000</td>\n",
       "      <td>6.900000</td>\n",
       "      <td>2.500000</td>\n",
       "    </tr>\n",
       "  </tbody>\n",
       "</table>\n",
       "</div>"
      ],
      "text/plain": [
       "               SL          SW          PL          PW\n",
       "count  145.000000  145.000000  145.000000  145.000000\n",
       "mean     5.867586    3.023448    3.847586    1.226897\n",
       "std      0.816827    0.374354    1.712265    0.758219\n",
       "min      4.300000    2.200000    1.000000    0.100000\n",
       "25%      5.200000    2.800000    1.600000    0.300000\n",
       "50%      5.800000    3.000000    4.350000    1.300000\n",
       "75%      6.400000    3.200000    5.100000    1.800000\n",
       "max      7.900000    3.900000    6.900000    2.500000"
      ]
     },
     "execution_count": 62,
     "metadata": {},
     "output_type": "execute_result"
    }
   ],
   "source": [
    "iris_data.describe()"
   ]
  },
  {
   "cell_type": "markdown",
   "id": "1430b515",
   "metadata": {},
   "source": [
    "# Decision Tree Classifier"
   ]
  },
  {
   "cell_type": "code",
   "execution_count": 63,
   "id": "524a5d6e",
   "metadata": {},
   "outputs": [],
   "source": [
    "from sklearn.tree import DecisionTreeClassifier"
   ]
  },
  {
   "cell_type": "code",
   "execution_count": 64,
   "id": "5e05b817",
   "metadata": {},
   "outputs": [],
   "source": [
    "# create an instance and store it in a variable 'dt_model'\n",
    "dt_model = DecisionTreeClassifier()"
   ]
  },
  {
   "cell_type": "code",
   "execution_count": 65,
   "id": "7de7f9cf",
   "metadata": {},
   "outputs": [
    {
     "data": {
      "text/plain": [
       "{'ccp_alpha': 0.0,\n",
       " 'class_weight': None,\n",
       " 'criterion': 'gini',\n",
       " 'max_depth': None,\n",
       " 'max_features': None,\n",
       " 'max_leaf_nodes': None,\n",
       " 'min_impurity_decrease': 0.0,\n",
       " 'min_impurity_split': None,\n",
       " 'min_samples_leaf': 1,\n",
       " 'min_samples_split': 2,\n",
       " 'min_weight_fraction_leaf': 0.0,\n",
       " 'random_state': None,\n",
       " 'splitter': 'best'}"
      ]
     },
     "execution_count": 65,
     "metadata": {},
     "output_type": "execute_result"
    }
   ],
   "source": [
    "# x_train (independant variable are features),dependent variable-y train\n",
    "# it is a supervised machine learning algorithm \n",
    "# this can be done by using fit method that represents training on the x train and y train\n",
    "# so i am fitting on that one\n",
    "\n",
    "dt_model.fit(x_train,y_train)\n",
    "dt_model.get_params()  # to get the parameter"
   ]
  },
  {
   "cell_type": "code",
   "execution_count": 66,
   "id": "d9e0bc0b",
   "metadata": {},
   "outputs": [],
   "source": [
    "# now am going to apply predict method on the testing data,that is x test and\n",
    "# storing the predicted classes in y_prediction for convenience\n",
    "\n",
    "y_pred = dt_model.predict(x_test)"
   ]
  },
  {
   "cell_type": "code",
   "execution_count": 67,
   "id": "82a31078",
   "metadata": {},
   "outputs": [
    {
     "name": "stdout",
     "output_type": "stream",
     "text": [
      "Accuracy on Decision tree model is 0.896551724137931\n"
     ]
    }
   ],
   "source": [
    "# here the matric we are using is accuracy,it is available in sklearn.metric function and \n",
    "# takes two arguments , that is y test and y predictions\n",
    "print('Accuracy on Decision tree model is', accuracy_score(y_test,y_pred))"
   ]
  },
  {
   "cell_type": "markdown",
   "id": "34bd1957",
   "metadata": {},
   "source": [
    "# SVM"
   ]
  },
  {
   "cell_type": "markdown",
   "id": "f2e27517",
   "metadata": {},
   "source": [
    "1. Linear SVM"
   ]
  },
  {
   "cell_type": "code",
   "execution_count": 68,
   "id": "04e4b078",
   "metadata": {},
   "outputs": [],
   "source": [
    "# linear classifier\n",
    "from sklearn.svm import SVC"
   ]
  },
  {
   "cell_type": "code",
   "execution_count": 69,
   "id": "69f01a18",
   "metadata": {},
   "outputs": [],
   "source": [
    "# instance created and stored in svm_linear\n",
    "# argument i am giving here is kernel = linear, it means representing as a linear based svm\n",
    "\n",
    "svm_linear =SVC(kernel ='linear')\n"
   ]
  },
  {
   "cell_type": "code",
   "execution_count": 70,
   "id": "a2b328c8",
   "metadata": {},
   "outputs": [
    {
     "data": {
      "text/plain": [
       "SVC(kernel='linear')"
      ]
     },
     "execution_count": 70,
     "metadata": {},
     "output_type": "execute_result"
    }
   ],
   "source": [
    "# based on the x train and y train am training the model using fit method, \n",
    "# this is taking some time,we will discuss it\n",
    "\n",
    "svm_linear.fit(x_train,y_train)"
   ]
  },
  {
   "cell_type": "code",
   "execution_count": 71,
   "id": "0d214899",
   "metadata": {},
   "outputs": [],
   "source": [
    "# now am predicting the classes and storing it into y_prediction and calculating the \n",
    "# accuracy score using ytest and y prediction\n",
    "\n",
    "y_pred = svm_linear.predict(x_test)"
   ]
  },
  {
   "cell_type": "code",
   "execution_count": 72,
   "id": "f7552bb4",
   "metadata": {},
   "outputs": [
    {
     "name": "stdout",
     "output_type": "stream",
     "text": [
      "Accuracy using linear svm is 0.896551724137931\n"
     ]
    }
   ],
   "source": [
    "print('Accuracy using linear svm is', accuracy_score(y_test,y_pred))"
   ]
  },
  {
   "cell_type": "markdown",
   "id": "791e30f2",
   "metadata": {},
   "source": [
    "Standardising the features"
   ]
  },
  {
   "cell_type": "code",
   "execution_count": 73,
   "id": "18534ba5",
   "metadata": {},
   "outputs": [],
   "source": [
    "# module importing from sklearn.preprocessing method\n",
    "# storing it into a variable called sc\n",
    "\n",
    "from sklearn.preprocessing import StandardScaler"
   ]
  },
  {
   "cell_type": "code",
   "execution_count": 74,
   "id": "9e1e19ee",
   "metadata": {},
   "outputs": [],
   "source": [
    "sc = StandardScaler()"
   ]
  },
  {
   "cell_type": "code",
   "execution_count": 75,
   "id": "4b9fb191",
   "metadata": {},
   "outputs": [],
   "source": [
    "# for compatiblity issues like in machine learning the features giving to the model and \n",
    "# features am testing by the model should be compatible\n",
    "# am fitting this standars scaler fuction on both x train and y train\n",
    "\n",
    "x_train = sc.fit_transform(x_train)\n",
    "x_test = sc.fit_transform(x_test)"
   ]
  },
  {
   "cell_type": "code",
   "execution_count": 76,
   "id": "cef5ef76",
   "metadata": {},
   "outputs": [],
   "source": [
    "# continuing the same linear kernal svm classifier \n",
    "\n",
    "\n",
    "svm_linear =SVC(kernel ='linear')"
   ]
  },
  {
   "cell_type": "code",
   "execution_count": 77,
   "id": "9aab72d4",
   "metadata": {},
   "outputs": [
    {
     "data": {
      "text/plain": [
       "SVC(kernel='linear')"
      ]
     },
     "execution_count": 77,
     "metadata": {},
     "output_type": "execute_result"
    }
   ],
   "source": [
    "# fitting data into xtrain y train\n",
    " \n",
    "svm_linear.fit(x_train,y_train)"
   ]
  },
  {
   "cell_type": "code",
   "execution_count": 78,
   "id": "ef0aa5c4",
   "metadata": {},
   "outputs": [],
   "source": [
    "# predicting the classes by using  x test and storing it to variable y_pred\n",
    "\n",
    "y_pred = svm_linear.predict(x_test)"
   ]
  },
  {
   "cell_type": "code",
   "execution_count": 79,
   "id": "d8f86e8b",
   "metadata": {},
   "outputs": [
    {
     "name": "stdout",
     "output_type": "stream",
     "text": [
      "Accuracy is 0.9310344827586207\n"
     ]
    }
   ],
   "source": [
    "# apply accuracy score on ytest and y prediction\n",
    "\n",
    "print('Accuracy is', accuracy_score(y_test,y_pred))"
   ]
  },
  {
   "cell_type": "code",
   "execution_count": 80,
   "id": "14c548a0",
   "metadata": {},
   "outputs": [],
   "source": [
    "# accuracy before scaling is 89% and after scaling is 93%"
   ]
  },
  {
   "cell_type": "markdown",
   "id": "b2a0b9ee",
   "metadata": {},
   "source": [
    "2. polynomial svm"
   ]
  },
  {
   "cell_type": "code",
   "execution_count": 81,
   "id": "b1e32715",
   "metadata": {},
   "outputs": [],
   "source": [
    "# one more argument we need to mention here is the degree\n",
    "# now am taking degree 3, we can take 2,3,4,5 based on requirement\n",
    "# and storing it variable svm_poly"
   ]
  },
  {
   "cell_type": "code",
   "execution_count": 82,
   "id": "aa2caae0",
   "metadata": {},
   "outputs": [],
   "source": [
    "svm_poly = SVC(kernel='poly',degree=3)"
   ]
  },
  {
   "cell_type": "code",
   "execution_count": 83,
   "id": "7b7edefe",
   "metadata": {},
   "outputs": [
    {
     "data": {
      "text/plain": [
       "{'C': 1.0,\n",
       " 'break_ties': False,\n",
       " 'cache_size': 200,\n",
       " 'class_weight': None,\n",
       " 'coef0': 0.0,\n",
       " 'decision_function_shape': 'ovr',\n",
       " 'degree': 3,\n",
       " 'gamma': 'scale',\n",
       " 'kernel': 'poly',\n",
       " 'max_iter': -1,\n",
       " 'probability': False,\n",
       " 'random_state': None,\n",
       " 'shrinking': True,\n",
       " 'tol': 0.001,\n",
       " 'verbose': False}"
      ]
     },
     "execution_count": 83,
     "metadata": {},
     "output_type": "execute_result"
    }
   ],
   "source": [
    "# applying xtrain and y train fitting for learning the model from the data\n",
    "\n",
    "svm_poly.fit(x_train,y_train)\n",
    "svm_poly.get_params()"
   ]
  },
  {
   "cell_type": "code",
   "execution_count": 84,
   "id": "053cd76a",
   "metadata": {},
   "outputs": [],
   "source": [
    "# predicting on x test and storing into y prediction\n",
    "\n",
    "y_pred = svm_poly.predict(x_test)"
   ]
  },
  {
   "cell_type": "code",
   "execution_count": 85,
   "id": "fb8d1267",
   "metadata": {},
   "outputs": [
    {
     "name": "stdout",
     "output_type": "stream",
     "text": [
      "Accuracy is 0.8620689655172413\n"
     ]
    }
   ],
   "source": [
    "# calculating the accuracy using y test and y pred\n",
    "# ytest is the original test data and y predict is the predicted values subclasses\n",
    "\n",
    "print('Accuracy is', accuracy_score(y_test,y_pred))"
   ]
  },
  {
   "cell_type": "markdown",
   "id": "94c606e1",
   "metadata": {},
   "source": [
    "3. Radial based kernel"
   ]
  },
  {
   "cell_type": "code",
   "execution_count": 86,
   "id": "b877b678",
   "metadata": {},
   "outputs": [],
   "source": [
    "svm_radial = SVC(kernel='rbf')\n",
    "\n",
    "# rbf = radial basis function, it is sometimes called gaussian kernel\n"
   ]
  },
  {
   "cell_type": "code",
   "execution_count": 87,
   "id": "da06de85",
   "metadata": {},
   "outputs": [
    {
     "data": {
      "text/plain": [
       "{'C': 1.0,\n",
       " 'break_ties': False,\n",
       " 'cache_size': 200,\n",
       " 'class_weight': None,\n",
       " 'coef0': 0.0,\n",
       " 'decision_function_shape': 'ovr',\n",
       " 'degree': 3,\n",
       " 'gamma': 'scale',\n",
       " 'kernel': 'rbf',\n",
       " 'max_iter': -1,\n",
       " 'probability': False,\n",
       " 'random_state': None,\n",
       " 'shrinking': True,\n",
       " 'tol': 0.001,\n",
       " 'verbose': False}"
      ]
     },
     "execution_count": 87,
     "metadata": {},
     "output_type": "execute_result"
    }
   ],
   "source": [
    "# applying xtrain and y train fitting for learning the model from the data\n",
    "\n",
    "svm_radial.fit(x_train,y_train)\n",
    "svm_radial.get_params()"
   ]
  },
  {
   "cell_type": "code",
   "execution_count": 88,
   "id": "c1a0da8b",
   "metadata": {},
   "outputs": [],
   "source": [
    "# predicting on x test and storing into y prediction\n",
    "\n",
    "y_pred = svm_radial.predict(x_test)"
   ]
  },
  {
   "cell_type": "code",
   "execution_count": 89,
   "id": "cd126552",
   "metadata": {},
   "outputs": [
    {
     "name": "stdout",
     "output_type": "stream",
     "text": [
      "Accuracy is 0.9310344827586207\n"
     ]
    }
   ],
   "source": [
    "# calculating the accuracy using y test and y pred\n",
    "# ytest is the original test data and y predict is the predicted values subclasses\n",
    "\n",
    "print('Accuracy is', accuracy_score(y_test,y_pred))"
   ]
  },
  {
   "cell_type": "markdown",
   "id": "16de5caf",
   "metadata": {},
   "source": [
    "# Random Forest"
   ]
  },
  {
   "cell_type": "code",
   "execution_count": 90,
   "id": "df9ddb4c",
   "metadata": {},
   "outputs": [],
   "source": [
    "# importing random forest classifier from assemble module\n",
    "from sklearn.ensemble import RandomForestClassifier"
   ]
  },
  {
   "cell_type": "code",
   "execution_count": 91,
   "id": "78677eab",
   "metadata": {},
   "outputs": [],
   "source": [
    "# Create a Random forest Classifier\n",
    "clf = RandomForestClassifier(n_estimators = 100)"
   ]
  },
  {
   "cell_type": "code",
   "execution_count": 92,
   "id": "e35edfa3",
   "metadata": {},
   "outputs": [
    {
     "data": {
      "text/plain": [
       "RandomForestClassifier()"
      ]
     },
     "execution_count": 92,
     "metadata": {},
     "output_type": "execute_result"
    }
   ],
   "source": [
    "# Train the model using the training sets\n",
    "clf.fit(x_train, y_train)"
   ]
  },
  {
   "cell_type": "code",
   "execution_count": 93,
   "id": "a787adc6",
   "metadata": {},
   "outputs": [],
   "source": [
    "y_pred = clf.predict(x_test)"
   ]
  },
  {
   "cell_type": "code",
   "execution_count": 94,
   "id": "07b2b565",
   "metadata": {},
   "outputs": [
    {
     "name": "stdout",
     "output_type": "stream",
     "text": [
      "Accuracy is 0.9310344827586207\n"
     ]
    }
   ],
   "source": [
    "#Import scikit-learn metrics module for accuracy calculation\n",
    "from sklearn import metrics\n",
    "print('Accuracy is', accuracy_score(y_test,y_pred))"
   ]
  },
  {
   "cell_type": "code",
   "execution_count": null,
   "id": "ba2213f3",
   "metadata": {},
   "outputs": [],
   "source": [
    "Observations\n",
    "Accuracy of logistic regression is 93%\n",
    "Accuracy of KNN is 93%\n",
    "Accuracy of Decision Tree is 89%\n",
    "Accuracy of SVM \n",
    "  Linear svm before scaling is 89% and after scaling is 93%\n",
    "  Polynomial svm is 86%  \n",
    "  Radial svm is 93%\n",
    "Accuracy of Random Forest is 93%  \n",
    "  \n"
   ]
  }
 ],
 "metadata": {
  "kernelspec": {
   "display_name": "Python 3",
   "language": "python",
   "name": "python3"
  },
  "language_info": {
   "codemirror_mode": {
    "name": "ipython",
    "version": 3
   },
   "file_extension": ".py",
   "mimetype": "text/x-python",
   "name": "python",
   "nbconvert_exporter": "python",
   "pygments_lexer": "ipython3",
   "version": "3.8.8"
  }
 },
 "nbformat": 4,
 "nbformat_minor": 5
}
